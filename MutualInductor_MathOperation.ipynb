{
 "cells": [
  {
   "cell_type": "code",
   "execution_count": 1,
   "metadata": {},
   "outputs": [],
   "source": [
    "import sympy as sym \n",
    "sym.init_printing()\n",
    "\n",
    "VL1 = sym.Symbol('V_{L1}') \n",
    "VL2 = sym.Symbol('V_{L2}') \n",
    "L1 = sym.Symbol('L_1') \n",
    "L2 = sym.Symbol('L_2')\n",
    "L = sym.Symbol('L') #等価L\n",
    "IL1 = sym.Symbol('I_{L1}') \n",
    "IL2 = sym.Symbol('I_{L2}') \n",
    "M = sym.Symbol('M') \n",
    "t =  sym.Symbol('t') \n",
    "\n",
    "Vin = sym.Symbol('V_{in}') # Vin 入り口フィルタコン電圧\n",
    "Vout = sym.Symbol('V_{out}') # Vo 　出口平滑コン電圧"
   ]
  },
  {
   "cell_type": "code",
   "execution_count": 2,
   "metadata": {},
   "outputs": [
    {
     "data": {
      "image/png": "[encoded data removed]",
      "text/latex": [
       "$\\displaystyle \\frac{d}{d t} I_{L1}$"
      ],
      "text/plain": [
       "d         \n",
       "──(I_{L1})\n",
       "dt        "
      ]
     },
     "execution_count": 2,
     "metadata": {},
     "output_type": "execute_result"
    }
   ],
   "source": [
    "dIL1 = sym.Derivative(IL1,'t')\n",
    "dIL2 = sym.Derivative(IL2,'t')\n",
    "dIL1"
   ]
  },
  {
   "cell_type": "code",
   "execution_count": 3,
   "metadata": {},
   "outputs": [
    {
     "data": {
      "image/png": "[encoded data removed]",
      "text/latex": [
       "$\\displaystyle V_{L1} = L_{1} \\frac{d}{d t} I_{L1} - M \\frac{d}{d t} I_{L2}$"
      ],
      "text/plain": [
       "            d              d         \n",
       "V_{L1} = L₁⋅──(I_{L1}) - M⋅──(I_{L2})\n",
       "            dt             dt        "
      ]
     },
     "execution_count": 3,
     "metadata": {},
     "output_type": "execute_result"
    }
   ],
   "source": [
    "Eq1 = sym.Eq(VL1,L1*dIL1 - M * dIL2)\n",
    "Eq1"
   ]
  },
  {
   "cell_type": "code",
   "execution_count": 4,
   "metadata": {},
   "outputs": [
    {
     "data": {
      "image/png": "[encoded data removed]",
      "text/latex": [
       "$\\displaystyle V_{L2} = L_{2} \\frac{d}{d t} I_{L2} - M \\frac{d}{d t} I_{L1}$"
      ],
      "text/plain": [
       "            d              d         \n",
       "V_{L2} = L₂⋅──(I_{L2}) - M⋅──(I_{L1})\n",
       "            dt             dt        "
      ]
     },
     "execution_count": 4,
     "metadata": {},
     "output_type": "execute_result"
    }
   ],
   "source": [
    "Eq2 = sym.Eq(VL2,L2*dIL2 - M * dIL1)\n",
    "Eq2 "
   ]
  },
  {
   "cell_type": "markdown",
   "metadata": {},
   "source": [
    "<span style=\"font-size:2em;\">Mode1の巻</span>\n",
    "\n",
    "Tr1:ON , Tr2:OFF\n",
    "この状態では　VL1　=  Vin,  VL2 = Vout-Vin となる。 "
   ]
  },
  {
   "cell_type": "code",
   "execution_count": 5,
   "metadata": {},
   "outputs": [],
   "source": [
    "#代入\n",
    "VL1 = Vin\n",
    "VL2 = Vin - Vout\n",
    "L1 = L\n",
    "L2 = L"
   ]
  },
  {
   "cell_type": "code",
   "execution_count": 6,
   "metadata": {},
   "outputs": [
    {
     "data": {
      "image/png": "[encoded data removed]",
      "text/latex": [
       "$\\displaystyle V_{in} = L \\frac{d}{d t} I_{L1} - M \\frac{d}{d t} I_{L2}$"
      ],
      "text/plain": [
       "           d              d         \n",
       "V_{in} = L⋅──(I_{L1}) - M⋅──(I_{L2})\n",
       "           dt             dt        "
      ]
     },
     "execution_count": 6,
     "metadata": {},
     "output_type": "execute_result"
    }
   ],
   "source": [
    "Eq1 = sym.Eq(Vin,L1*dIL1 - M * dIL2)\n",
    "Eq1"
   ]
  },
  {
   "cell_type": "code",
   "execution_count": 7,
   "metadata": {},
   "outputs": [
    {
     "data": {
      "image/png": "[encoded data removed]",
      "text/latex": [
       "$\\displaystyle V_{in} - V_{out} = L \\frac{d}{d t} I_{L2} - M \\frac{d}{d t} I_{L1}$"
      ],
      "text/plain": [
       "                     d              d         \n",
       "V_{in} - V_{out} = L⋅──(I_{L2}) - M⋅──(I_{L1})\n",
       "                     dt             dt        "
      ]
     },
     "execution_count": 7,
     "metadata": {},
     "output_type": "execute_result"
    }
   ],
   "source": [
    "Eq2 = sym.Eq( Vin - Vout,L2*dIL2 - M * dIL1)\n",
    "Eq2 "
   ]
  },
  {
   "cell_type": "code",
   "execution_count": 8,
   "metadata": {},
   "outputs": [
    {
     "data": {
      "image/png": "[encoded data removed]",
      "text/latex": [
       "$\\displaystyle \\left\\{ \\frac{d}{d t} I_{L1} : \\frac{L V_{in} + M \\left(V_{in} - V_{out}\\right)}{L^{2} - M^{2}}, \\  \\frac{d}{d t} I_{L2} : \\frac{L \\left(V_{in} - V_{out}\\right) + M V_{in}}{L^{2} - M^{2}}\\right\\}$"
      ],
      "text/plain": [
       "⎧d           L⋅V_{in} + M⋅(V_{in} - V_{out})  d           L⋅(V_{in} - V_{out})\n",
       "⎪──(I_{L1}): ───────────────────────────────, ──(I_{L2}): ────────────────────\n",
       "⎨dt                       2    2              dt                       2    2 \n",
       "⎪                        L  - M                                       L  - M  \n",
       "⎩                                                                             \n",
       "\n",
       " + M⋅V_{in}⎫\n",
       "───────────⎪\n",
       "           ⎬\n",
       "           ⎪\n",
       "           ⎭"
      ]
     },
     "execution_count": 8,
     "metadata": {},
     "output_type": "execute_result"
    }
   ],
   "source": [
    "sym.solve([Eq1,Eq2], [dIL1,dIL2])"
   ]
  },
  {
   "cell_type": "markdown",
   "metadata": {},
   "source": [
    "<span style=\"font-size:2em;\">Mode2の巻</span>\n",
    "\n",
    "Tr1:OFF , Tr2:ON\n",
    "この状態では　VL1　=  Vo-Vin,  VL2 = Vin となる。 \n",
    "\n",
    "この場合、Mode1のL1とL2を入れ変えるだけなので省略"
   ]
  },
  {
   "cell_type": "markdown",
   "metadata": {},
   "source": [
    "<span style=\"font-size:2em;\">Mode3の巻</span>\n",
    "\n",
    "Tr1:OFF , Tr2:OFF\n",
    "この状態では　VL1　=  Vin-Vout,  VL2 = Vin-Vout となる。 \n"
   ]
  },
  {
   "cell_type": "code",
   "execution_count": 9,
   "metadata": {},
   "outputs": [],
   "source": [
    "#代入\n",
    "VL1 = Vin -Vout\n",
    "VL2 = Vin -Vout\n",
    "L1 = L\n",
    "L2 = L"
   ]
  },
  {
   "cell_type": "code",
   "execution_count": 10,
   "metadata": {},
   "outputs": [
    {
     "data": {
      "image/png": "[encoded data removed]",
      "text/latex": [
       "$\\displaystyle V_{in} - V_{out} = L \\frac{d}{d t} I_{L1} - M \\frac{d}{d t} I_{L2}$"
      ],
      "text/plain": [
       "                     d              d         \n",
       "V_{in} - V_{out} = L⋅──(I_{L1}) - M⋅──(I_{L2})\n",
       "                     dt             dt        "
      ]
     },
     "execution_count": 10,
     "metadata": {},
     "output_type": "execute_result"
    }
   ],
   "source": [
    "Eq1 = sym.Eq(VL1,L1*dIL1 - M * dIL2)\n",
    "Eq1"
   ]
  },
  {
   "cell_type": "code",
   "execution_count": 11,
   "metadata": {},
   "outputs": [
    {
     "data": {
      "image/png": "[encoded data removed]",
      "text/latex": [
       "$\\displaystyle V_{in} - V_{out} = L \\frac{d}{d t} I_{L2} - M \\frac{d}{d t} I_{L1}$"
      ],
      "text/plain": [
       "                     d              d         \n",
       "V_{in} - V_{out} = L⋅──(I_{L2}) - M⋅──(I_{L1})\n",
       "                     dt             dt        "
      ]
     },
     "execution_count": 11,
     "metadata": {},
     "output_type": "execute_result"
    }
   ],
   "source": [
    "Eq2 = sym.Eq( VL2,L2*dIL2 - M * dIL1)\n",
    "Eq2 "
   ]
  },
  {
   "cell_type": "code",
   "execution_count": 12,
   "metadata": {},
   "outputs": [
    {
     "data": {
      "image/png": "[encoded data removed]",
      "text/latex": [
       "$\\displaystyle \\left\\{ \\frac{d}{d t} I_{L1} : \\frac{V_{in} - V_{out}}{L - M}, \\  \\frac{d}{d t} I_{L2} : \\frac{V_{in} - V_{out}}{L - M}\\right\\}$"
      ],
      "text/plain": [
       "⎧d           V_{in} - V_{out}  d           V_{in} - V_{out}⎫\n",
       "⎨──(I_{L1}): ────────────────, ──(I_{L2}): ────────────────⎬\n",
       "⎩dt               L - M        dt               L - M      ⎭"
      ]
     },
     "execution_count": 12,
     "metadata": {},
     "output_type": "execute_result"
    }
   ],
   "source": [
    "sym.solve([Eq1,Eq2], [dIL1,dIL2])"
   ]
  },
  {
   "cell_type": "markdown",
   "metadata": {},
   "source": [
    "<span style=\"font-size:2em;\">Mode4の巻</span>\n",
    "\n",
    "Tr1:ON , Tr2:ON\n",
    "この状態では　VL1　=  VL2 = Vin となる。 "
   ]
  },
  {
   "cell_type": "code",
   "execution_count": 13,
   "metadata": {},
   "outputs": [],
   "source": [
    "#代入\n",
    "VL1 = Vin\n",
    "VL2 = Vin\n",
    "L1 = L\n",
    "L2 = L"
   ]
  },
  {
   "cell_type": "code",
   "execution_count": 14,
   "metadata": {},
   "outputs": [
    {
     "data": {
      "image/png": "[encoded data removed]",
      "text/latex": [
       "$\\displaystyle V_{in} = L \\frac{d}{d t} I_{L1} - M \\frac{d}{d t} I_{L2}$"
      ],
      "text/plain": [
       "           d              d         \n",
       "V_{in} = L⋅──(I_{L1}) - M⋅──(I_{L2})\n",
       "           dt             dt        "
      ]
     },
     "execution_count": 14,
     "metadata": {},
     "output_type": "execute_result"
    }
   ],
   "source": [
    "Eq1 = sym.Eq(VL1,L1*dIL1 - M * dIL2)\n",
    "Eq1"
   ]
  },
  {
   "cell_type": "code",
   "execution_count": 15,
   "metadata": {},
   "outputs": [
    {
     "data": {
      "image/png": "[encoded data removed]",
      "text/latex": [
       "$\\displaystyle V_{in} = L \\frac{d}{d t} I_{L2} - M \\frac{d}{d t} I_{L1}$"
      ],
      "text/plain": [
       "           d              d         \n",
       "V_{in} = L⋅──(I_{L2}) - M⋅──(I_{L1})\n",
       "           dt             dt        "
      ]
     },
     "execution_count": 15,
     "metadata": {},
     "output_type": "execute_result"
    }
   ],
   "source": [
    "Eq2 = sym.Eq( VL2,L2*dIL2 - M * dIL1)\n",
    "Eq2 "
   ]
  },
  {
   "cell_type": "code",
   "execution_count": 16,
   "metadata": {},
   "outputs": [
    {
     "data": {
      "image/png": "[encoded data removed]",
      "text/latex": [
       "$\\displaystyle \\left\\{ \\frac{d}{d t} I_{L1} : \\frac{V_{in}}{L - M}, \\  \\frac{d}{d t} I_{L2} : \\frac{V_{in}}{L - M}\\right\\}$"
      ],
      "text/plain": [
       "⎧d           V_{in}  d           V_{in}⎫\n",
       "⎨──(I_{L1}): ──────, ──(I_{L2}): ──────⎬\n",
       "⎩dt          L - M   dt          L - M ⎭"
      ]
     },
     "execution_count": 16,
     "metadata": {},
     "output_type": "execute_result"
    }
   ],
   "source": [
    "sym.solve([Eq1,Eq2], [dIL1,dIL2])"
   ]
  }
 ],
 "metadata": {
  "kernelspec": {
   "display_name": "Python 3",
   "language": "python",
   "name": "python3"
  },
  "language_info": {
   "codemirror_mode": {
    "name": "ipython",
    "version": 3
   },
   "file_extension": ".py",
   "mimetype": "text/x-python",
   "name": "python",
   "nbconvert_exporter": "python",
   "pygments_lexer": "ipython3",
   "version": "3.8.5"
  }
 },
 "nbformat": 4,
 "nbformat_minor": 4
}
